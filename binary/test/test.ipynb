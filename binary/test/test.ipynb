{
 "cells": [
  {
   "cell_type": "code",
   "execution_count": 1,
   "metadata": {},
   "outputs": [],
   "source": [
    "from torchvision import transforms\n",
    "from torch.utils.data import DataLoader\n",
    "\n",
    "from utils.dataset import CustomDataset\n",
    "from torchsampler import ImbalancedDatasetSampler\n",
    "\n",
    "import torch\n",
    "import torch.nn as nn\n",
    "import os\n",
    "os.environ['KMP_DUPLICATE_LIB_OK']='True'\n",
    "import numpy as np \n",
    "\n",
    "from torchsummary import summary\n",
    "\n",
    "from torch.nn import functional as F \n",
    "\n",
    "from tqdm import tqdm\n",
    "import pandas as pd \n",
    "\n",
    "import matplotlib.pyplot as plt\n",
    "\n",
    "import sys\n",
    "sys.path.append('../../')\n",
    "from network import binary_models as models\n"
   ]
  },
  {
   "cell_type": "code",
   "execution_count": 2,
   "metadata": {},
   "outputs": [],
   "source": [
    "test_dir1 = '/mnt/HDD/octc/data_bin_origin/test'\n",
    "# test_dir2 = '/mnt/HDD/octc/data_bin_origin/test'\n",
    "# test_dir3 = '/mnt/HDD/octc/data_bin_origin/test'\n",
    "test_dir2 = '/mnt/HDD/octc/data_bin_sono/test'\n",
    "test_dir3 = '/mnt/HDD/oci-gan/oci-gan_v1_bin/test'\n",
    "test_transform = transforms.Compose([\n",
    "    transforms.ToTensor(),\n",
    "    transforms.Resize((224,224), antialias=True),\n",
    "    transforms.Grayscale(num_output_channels=3),\n",
    "])\n",
    "test_batch = 16\n",
    "test_dataset1 = CustomDataset(root_dir = test_dir1, transform= test_transform)\n",
    "test_dataset2 = CustomDataset(root_dir = test_dir2, transform= test_transform)\n",
    "test_dataset3 = CustomDataset(root_dir = test_dir3, transform= test_transform)\n",
    "test_dataset4 = CustomDataset(root_dir = test_dir1, transform= test_transform)\n",
    "test_dataset5 = CustomDataset(root_dir = test_dir2, transform= test_transform)\n",
    "test_dataset6 = CustomDataset(root_dir = test_dir3, transform= test_transform)\n",
    "test_loader1 = DataLoader(dataset = test_dataset1, batch_size = test_batch, shuffle= True)\n",
    "test_loader2 = DataLoader(dataset = test_dataset2, batch_size = test_batch, shuffle= True)\n",
    "test_loader3 = DataLoader(dataset = test_dataset3, batch_size = test_batch, shuffle= True)\n",
    "test_loader4 = DataLoader(dataset = test_dataset4, batch_size = test_batch, shuffle= True)\n",
    "test_loader5 = DataLoader(dataset = test_dataset5, batch_size = test_batch, shuffle= True)\n",
    "test_loader6 = DataLoader(dataset = test_dataset6, batch_size = test_batch, shuffle= True)"
   ]
  },
  {
   "cell_type": "code",
   "execution_count": 3,
   "metadata": {},
   "outputs": [
    {
     "name": "stderr",
     "output_type": "stream",
     "text": [
      "/home/eiden/anaconda3/envs/eiden/lib/python3.8/site-packages/torchvision/models/_utils.py:223: UserWarning: Arguments other than a weight enum or `None` for 'weights' are deprecated since 0.13 and may be removed in the future. The current behavior is equivalent to passing `weights=ConvNeXt_Base_Weights.IMAGENET1K_V1`. You can also use `weights=ConvNeXt_Base_Weights.DEFAULT` to get the most up-to-date weights.\n",
      "  warnings.warn(msg)\n"
     ]
    },
    {
     "name": "stdout",
     "output_type": "stream",
     "text": [
      "load complete!! device : cuda\n"
     ]
    }
   ],
   "source": [
    "device = torch.device('cuda' if torch.cuda.is_available() else 'cpu')\n",
    "\n",
    "### Convnext\n",
    "checkpoint_path1 = '/home/eiden/eiden/octc-classification/models/binary/convnext_origin_240406/convnext_origin_240406_50.pt' #original model\n",
    "checkpoint_path2 = '/home/eiden/eiden/octc-classification/models/binary/convnext_sono_240406/convnext_sono_240406_50.pt' #not inpainting just sono model\n",
    "checkpoint_path3 = '/home/eiden/eiden/octc-classification/models/binary/convnext_ours_240406/convnext_ours_240406_50.pt' #Ours model\n",
    "test_model1 = models.pretrained_convnext_binary().to(device) \n",
    "test_model2 = models.pretrained_convnext_binary().to(device) \n",
    "test_model3 = models.pretrained_convnext_binary().to(device) \n",
    "\n",
    "### Swin-T\n",
    "checkpoint_path4 = '/home/eiden/eiden/octc-classification/models/binary/swin_origin_240406/swin_origin_240406_50.pt' #original model\n",
    "checkpoint_path5 = '/home/eiden/eiden/octc-classification/models/binary/swin_sono_240406/swin_sono_240406_50.pt' #not inpainting just sono model\n",
    "checkpoint_path6 = '/home/eiden/eiden/octc-classification/models/binary/swin_ours_240406/swin_ours_240406_50.pt' #Ours model\n",
    "test_model4 = models.pretrained_swin_binary().to(device) \n",
    "test_model5 = models.pretrained_swin_binary().to(device) \n",
    "test_model6 = models.pretrained_swin_binary().to(device) \n",
    "\n",
    "\n",
    "test_model1.load_state_dict(state_dict = torch.load(checkpoint_path1)['model_state_dict'])\n",
    "test_model2.load_state_dict(state_dict = torch.load(checkpoint_path2)['model_state_dict'])\n",
    "test_model3.load_state_dict(state_dict = torch.load(checkpoint_path3)['model_state_dict'])\n",
    "test_model4.load_state_dict(state_dict = torch.load(checkpoint_path4)['model_state_dict'])\n",
    "test_model5.load_state_dict(state_dict = torch.load(checkpoint_path5)['model_state_dict'])\n",
    "test_model6.load_state_dict(state_dict = torch.load(checkpoint_path6)['model_state_dict'])\n",
    "print(f'load complete!! device : {device}')"
   ]
  },
  {
   "cell_type": "code",
   "execution_count": 4,
   "metadata": {},
   "outputs": [],
   "source": [
    "true_labels1,true_labels2,true_labels3 = [],[],[] \n",
    "pred_labels1,pred_labels2,pred_labels3 = [],[],[]\n",
    "pred_scores1,pred_scores2,pred_scores3 = [],[],[]\n",
    "true_labels4,true_labels5,true_labels6 = [],[],[] \n",
    "pred_labels4,pred_labels5,pred_labels6 = [],[],[]\n",
    "pred_scores4,pred_scores5,pred_scores6 = [],[],[]\n",
    "\n",
    "metrics_dict1 = {'model_name' : ['[Convext] Original Image'], \"recall\": [], \"specificity\": [], \"ppv\": [], \"npv\": [], \"f1_score\": [], \"acc\": [], \"roc_auc_score\": [], \"Best Threshold\" : None}\n",
    "metrics_dict2 = {'model_name' : ['[Convext] Traiditonal Image'], \"recall\": [], \"specificity\": [], \"ppv\": [], \"npv\": [], \"f1_score\": [], \"acc\": [], \"roc_auc_score\": [], \"Best Threshold\" : None}\n",
    "metrics_dict3 = {'model_name' : ['[Convext] Ours Image'], \"recall\": [], \"specificity\": [], \"ppv\": [], \"npv\": [], \"f1_score\": [], \"acc\": [], \"roc_auc_score\": [], \"Best Threshold\" : None}\n",
    "metrics_dict4 = {'model_name' : ['[Swin-T] Original Image'], \"recall\": [], \"specificity\": [], \"ppv\": [], \"npv\": [], \"f1_score\": [], \"acc\": [], \"roc_auc_score\": [], \"Best Threshold\" : None}\n",
    "metrics_dict5 = {'model_name' : ['[Swin-T] Traiditonal Image'], \"recall\": [], \"specificity\": [], \"ppv\": [], \"npv\": [], \"f1_score\": [], \"acc\": [], \"roc_auc_score\": [], \"Best Threshold\" : None}\n",
    "metrics_dict6 = {'model_name' : ['[Swin-T] Ours Image'], \"recall\": [], \"specificity\": [], \"ppv\": [], \"npv\": [], \"f1_score\": [], \"acc\": [], \"roc_auc_score\": [], \"Best Threshold\" : None}\n",
    "# metrics_dict3 = {'model_name' : [checkpoint_path3.split('/binary/')[-1].split('/')[0]], \"recall\": [], \"specificity\": [], \"ppv\": [], \"npv\": [], \"f1_score\": [], \"acc\": [], \"roc_auc_score\": [], \"Best Threshold\" : None}"
   ]
  },
  {
   "cell_type": "code",
   "execution_count": 5,
   "metadata": {},
   "outputs": [
    {
     "name": "stderr",
     "output_type": "stream",
     "text": [
      "19it [00:02,  7.27it/s]\n"
     ]
    },
    {
     "name": "stdout",
     "output_type": "stream",
     "text": [
      "3.749169e-05\n"
     ]
    },
    {
     "name": "stderr",
     "output_type": "stream",
     "text": [
      "19it [00:02,  8.09it/s]\n"
     ]
    },
    {
     "name": "stdout",
     "output_type": "stream",
     "text": [
      "9.741592e-05\n"
     ]
    },
    {
     "name": "stderr",
     "output_type": "stream",
     "text": [
      "19it [00:03,  5.67it/s]\n"
     ]
    },
    {
     "name": "stdout",
     "output_type": "stream",
     "text": [
      "1.4162891e-05\n"
     ]
    },
    {
     "name": "stderr",
     "output_type": "stream",
     "text": [
      "19it [00:02,  7.55it/s]\n"
     ]
    },
    {
     "name": "stdout",
     "output_type": "stream",
     "text": [
      "3.5095559e-06\n"
     ]
    },
    {
     "name": "stderr",
     "output_type": "stream",
     "text": [
      "19it [00:02,  8.23it/s]\n"
     ]
    },
    {
     "name": "stdout",
     "output_type": "stream",
     "text": [
      "8.766061e-06\n"
     ]
    },
    {
     "name": "stderr",
     "output_type": "stream",
     "text": [
      "19it [00:03,  5.73it/s]"
     ]
    },
    {
     "name": "stdout",
     "output_type": "stream",
     "text": [
      "2.0411386e-07\n"
     ]
    },
    {
     "name": "stderr",
     "output_type": "stream",
     "text": [
      "\n"
     ]
    }
   ],
   "source": [
    "from utils.metrics import metric_abstract, metric_func, save_metric, plot_combined_roc_curves, delong_test\n",
    "def test(test_model, test_loader, metrics_dict, true_labels, pred_scores):\n",
    "    with torch.no_grad():\n",
    "        test_model.eval()\n",
    "        for _, (inputs, labels, dirs) in tqdm(enumerate(test_loader)):\n",
    "            inputs, labels = inputs.to(device), labels.float().to(device)\n",
    "            outputs = test_model(inputs)\n",
    "            \n",
    "            # Update metrics for each model\n",
    "            true_labels, pred_scores = metric_abstract(labels, outputs, pred_scores, true_labels)\n",
    "            \n",
    "        metrics_dict = metric_func(true_labels, pred_scores, metrics_dict)\n",
    "    return true_labels, pred_scores, metrics_dict\n",
    "\n",
    "true_labels1, pred_scores1, metrics_dict1 = test(test_model1, test_loader1, metrics_dict1, true_labels1, pred_scores1)\n",
    "true_labels2, pred_scores2, metrics_dict2 = test(test_model2, test_loader2, metrics_dict2, true_labels2, pred_scores2)\n",
    "true_labels3, pred_scores3, metrics_dict3 = test(test_model3, test_loader3, metrics_dict3, true_labels3, pred_scores3)\n",
    "true_labels4, pred_scores4, metrics_dict4 = test(test_model4, test_loader4, metrics_dict4, true_labels4, pred_scores4)\n",
    "true_labels5, pred_scores5, metrics_dict5 = test(test_model5, test_loader5, metrics_dict5, true_labels5, pred_scores5)\n",
    "true_labels6, pred_scores6, metrics_dict6 = test(test_model6, test_loader6, metrics_dict6, true_labels6, pred_scores6)"
   ]
  },
  {
   "cell_type": "code",
   "execution_count": 6,
   "metadata": {},
   "outputs": [
    {
     "data": {
      "image/png": "[encoded data removed]",
      "text/plain": [
       "<Figure size 800x600 with 1 Axes>"
      ]
     },
     "metadata": {},
     "output_type": "display_data"
    }
   ],
   "source": [
    "models_data = [\n",
    "    (true_labels1, pred_scores1, 'Original Image'),\n",
    "    (true_labels2, pred_scores2, 'Non-Conventional Image'),\n",
    "    (true_labels3, pred_scores3, 'Inpainting GAN(Ours)'),\n",
    "    # (true_labels4, pred_scores4, metrics_dict4['model_name'][0]),\n",
    "    # (true_labels5, pred_scores5, metrics_dict5['model_name'][0]),\n",
    "    # (true_labels6, pred_scores6, metrics_dict6['model_name'][0]),\n",
    "]\n",
    "plot_combined_roc_curves(models_data)\n",
    "\n"
   ]
  },
  {
   "cell_type": "code",
   "execution_count": 7,
   "metadata": {},
   "outputs": [
    {
     "name": "stdout",
     "output_type": "stream",
     "text": [
      "Original vs Ours : (-1.0332356026456273, 0.30149365542518924)\n",
      "Original vs Non-Conventional : (-0.6150970948296701, 0.5384906005483094)\n",
      "Non-Conventional vs Ours : (-0.4208087428525948, 0.6738947469382441)\n"
     ]
    }
   ],
   "source": [
    "# delong test \n",
    "z_score1_3, p_value1_3 = delong_test(pred_scores1, pred_scores3, true_labels1, true_labels3)\n",
    "z_score1_2, p_value1_2 = delong_test(pred_scores1, pred_scores2, true_labels1, true_labels2)\n",
    "z_score2_3, p_value2_3 = delong_test(pred_scores2, pred_scores3, true_labels2, true_labels3)\n",
    "print(f\"Original vs Ours : {z_score1_3, p_value1_3 }\")\n",
    "print(f\"Original vs Non-Conventional : {z_score1_2, p_value1_2 }\")\n",
    "print(f\"Non-Conventional vs Ours : {z_score2_3, p_value2_3 }\")"
   ]
  },
  {
   "cell_type": "code",
   "execution_count": null,
   "metadata": {},
   "outputs": [],
   "source": [
    "# Save metrics\n",
    "save_path = os.path.join('/home/eiden/eiden/octc-classification/models/binary_metric')\n",
    "save_metric(metrics_dict1, os.path.join(save_path, metrics_dict1['model_name'][0])+'.csv')\n",
    "save_metric(metrics_dict2, os.path.join(save_path, metrics_dict2['model_name'][0])+'.csv')\n",
    "save_metric(metrics_dict3, os.path.join(save_path, metrics_dict3['model_name'][0])+'.csv')\n",
    "save_metric(metrics_dict4, os.path.join(save_path, metrics_dict4['model_name'][0])+'.csv')\n",
    "save_metric(metrics_dict5, os.path.join(save_path, metrics_dict5['model_name'][0])+'.csv')\n",
    "save_metric(metrics_dict6, os.path.join(save_path, metrics_dict6['model_name'][0])+'.csv')"
   ]
  },
  {
   "cell_type": "code",
   "execution_count": null,
   "metadata": {},
   "outputs": [],
   "source": [
    "import os\n",
    "import pandas as pd\n",
    "\n",
    "# CSV 파일 목록 가져오기\n",
    "csv_dir = save_path\n",
    "csv_li = os.listdir(csv_dir)\n",
    "csv_li = [csv for csv in csv_li if csv.endswith('.csv')]\n",
    "\n",
    "# CSV 파일 읽기 및 데이터프레임에 추가\n",
    "df = pd.DataFrame()\n",
    "for csv in csv_li:\n",
    "    csv_path = os.path.join(csv_dir, csv)\n",
    "    if os.path.getsize(csv_path) > 0:  # 파일이 비어 있지 않은 경우에만 읽기\n",
    "        temp = pd.read_csv(csv_path)\n",
    "        df = pd.concat([df, temp], axis=0)\n",
    "\n",
    "# 인덱스 리셋하기 (기존 인덱스 제거)\n",
    "# df.reset_index(drop=True, inplace=True)\n",
    "# 'model_name' 열에서 선행하는 0 제거\n",
    "# df['model_name'] = df['model_name'].apply(lambda x: x.lstrip('0'))\n",
    "df.index = df.index.map(lambda x: str(x).lstrip('0'))\n",
    "df = df.sort_values(by='model_name', ascending=True)\n",
    "df\n"
   ]
  },
  {
   "cell_type": "code",
   "execution_count": null,
   "metadata": {},
   "outputs": [],
   "source": [
    "def find_all_files(directory):\n",
    "    file_paths = []  # 모든 파일 경로를 저장할 리스트\n",
    "    for root, dirs, files in os.walk(directory):\n",
    "        for file in files:\n",
    "            file_paths.append(os.path.join(root, file))  # 파일 경로를 리스트에 추가\n",
    "    return file_paths\n"
   ]
  },
  {
   "cell_type": "code",
   "execution_count": null,
   "metadata": {},
   "outputs": [],
   "source": [
    "from utils.xai import apply_gradcam\n",
    "model_paths = [test_model1, test_model2, test_model3]\n",
    "checkpoint_paths = [checkpoint_path1, checkpoint_path2, checkpoint_path3]\n",
    "model_name = ['Original', 'Traditional', 'Ours']\n",
    "\n",
    "\n",
    "# dir_li1 = find_all_files(test_dir1.replace('test', 'train')) #<---train set \n",
    "dir_li1 = find_all_files(test_dir1) #<---test set\n",
    "dir_li2 = [path.replace('data_bin_origin', 'data_bin_sono') for path in dir_li1]\n",
    "dir_li3 = [path.replace('octc/data_bin_origin', 'oci-gan/oci-gan_v1_bin') for path in dir_li1]\n",
    "\n",
    "# gradcam_savedir = '/home/eiden/eiden/octc-classification/models/binary_metric/grad-cam/train'\n",
    "# gradcam_savedir = '/home/eiden/eiden/octc-classification/models/binary_metric/grad-cam/test'\n",
    "\n",
    "for i in range(len(dir_li1)):\n",
    "    if dir_li1[i].split('/')[-1] != dir_li2[i].split('/')[-1] or dir_li1[i].split('/')[-1] != dir_li3[i].split('/')[-1]:\n",
    "        pass\n",
    "    else: \n",
    "        try:\n",
    "            gradcam_input = []\n",
    "            gradcam_result = []\n",
    "            dir_li = [dir_li1[i], dir_li2[i], dir_li3[i]]\n",
    "            for i in range(3):\n",
    "                target_layer = model_paths[i].base_model.features[-1][-1]# convext\n",
    "                # target_layer = model_paths[i].base_model.layers[-1].blocks  #swin-t\n",
    "                image_path = dir_li[i]\n",
    "\n",
    "                # # Grad-CAM을 적용할 이미지 경로 \n",
    "                original_img, overlayed_img = apply_gradcam(model_paths[i], image_path, target_layer, device, model_name[i])\n",
    "                gradcam_input.append(original_img)\n",
    "                gradcam_result.append(overlayed_img)\n",
    "                # # Grad-CAM 결과를 저장할 경로 설정\n",
    "                save_gradcam_path = os.path.join(save_path, os.path.basename(checkpoint_paths[i]) + '_gradcam.jpg')\n",
    "\n",
    "            # Grad-CAM 결과 시각화\n",
    "            fig, axes = plt.subplots(2, 3, figsize=(10, 5))  # 2x3 subplot 생성\n",
    "\n",
    "            for i, result in enumerate(gradcam_input):\n",
    "                axes[0, i].imshow(result)  # 첫 번째 행에 결과 표시\n",
    "                axes[0, i].axis('off')\n",
    "                axes[0, i].set_title(f'Data : {model_name[i]}')\n",
    "\n",
    "            for i, result in enumerate(gradcam_result):\n",
    "                axes[1, i].imshow(result)  # 두 번째 행에 결과 표시\n",
    "                axes[1, i].axis('off')\n",
    "                axes[1, i].set_title(f'Grad-CAM : {model_name[i]}')\n",
    "\n",
    "            plt.tight_layout()\n",
    "            plt.savefig('/home/eiden/eiden/octc-classification/models/binary_metric/grad-cam/'+os.path.basename(image_path).split('.')[0]+'.png', dpi=300)\n",
    "            plt.close()\n",
    "        except:\n",
    "            pass"
   ]
  },
  {
   "cell_type": "code",
   "execution_count": null,
   "metadata": {},
   "outputs": [],
   "source": []
  }
 ],
 "metadata": {
  "kernelspec": {
   "display_name": "eiden",
   "language": "python",
   "name": "python3"
  },
  "language_info": {
   "codemirror_mode": {
    "name": "ipython",
    "version": 3
   },
   "file_extension": ".py",
   "mimetype": "text/x-python",
   "name": "python",
   "nbconvert_exporter": "python",
   "pygments_lexer": "ipython3",
   "version": "3.8.18"
  }
 },
 "nbformat": 4,
 "nbformat_minor": 2
}
